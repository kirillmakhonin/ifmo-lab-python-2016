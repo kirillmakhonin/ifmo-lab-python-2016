{
 "cells": [
  {
   "cell_type": "markdown",
   "metadata": {},
   "source": [
    "# Bank API"
   ]
  },
  {
   "cell_type": "markdown",
   "metadata": {},
   "source": [
    "## Banks\n",
    "### Create bank. Print information about bank"
   ]
  },
  {
   "cell_type": "code",
   "execution_count": 1,
   "metadata": {
    "collapsed": false,
    "scrolled": true
   },
   "outputs": [
    {
     "name": "stdout",
     "output_type": "stream",
     "text": [
      "Bank: OOO Roga and kopyta. Id: d56dd55c-8c3b-46db-9946-b711409a9654\n"
     ]
    }
   ],
   "source": [
    "from banking.banks import (Bank, get_all_banks)\n",
    "bank = Bank(\"OOO Roga and kopyta\")\n",
    "print(bank)"
   ]
  },
  {
   "cell_type": "markdown",
   "metadata": {},
   "source": [
    "### Get all banks\n",
    "All banks stores in global scope variable and can retrieved using get_all_banks()"
   ]
  },
  {
   "cell_type": "code",
   "execution_count": 2,
   "metadata": {
    "collapsed": false
   },
   "outputs": [
    {
     "name": "stdout",
     "output_type": "stream",
     "text": [
      "Bank: OOO Roga and kopyta. Id: d56dd55c-8c3b-46db-9946-b711409a9654\n"
     ]
    }
   ],
   "source": [
    "for bank in get_all_banks():\n",
    "    print(bank)"
   ]
  },
  {
   "cell_type": "markdown",
   "metadata": {},
   "source": [
    "## Currency"
   ]
  },
  {
   "cell_type": "code",
   "execution_count": 3,
   "metadata": {
    "collapsed": false
   },
   "outputs": [
    {
     "data": {
      "text/plain": [
       "Currency(Euro, EUR)"
      ]
     },
     "execution_count": 3,
     "metadata": {},
     "output_type": "execute_result"
    }
   ],
   "source": [
    "from banking.currency import Currency\n",
    "\n",
    "usd = Currency(\"USA Dollar\", \"usd\")\n",
    "bank.add_currency(usd)\n",
    "\n",
    "euro = Currency(\"Euro\", \"eur\")\n",
    "bank.add_currency(euro)"
   ]
  },
  {
   "cell_type": "code",
   "execution_count": 4,
   "metadata": {
    "collapsed": false
   },
   "outputs": [
    {
     "name": "stdout",
     "output_type": "stream",
     "text": [
      "Currency: Euro. Code: EUR\n",
      "Currency: USA Dollar. Code: USD\n"
     ]
    }
   ],
   "source": [
    "for currency in bank.currency_list:\n",
    "    print(currency)"
   ]
  },
  {
   "cell_type": "code",
   "execution_count": 5,
   "metadata": {
    "collapsed": false
   },
   "outputs": [
    {
     "name": "stdout",
     "output_type": "stream",
     "text": [
      "Currency: [Currency: Euro. Code: EUR]. Price: 80.2 (at: 2016-12-07 19:24:11.284793)\n",
      "Currency: [Currency: USA Dollar. Code: USD]. Price: 60 (at: 2016-12-07 19:24:11.284631)\n"
     ]
    }
   ],
   "source": [
    "usd = bank.get_currency('Usd')\n",
    "bank.set_currency_price(usd, 60)\n",
    "\n",
    "bank.set_currency_price('eur', 80)\n",
    "bank.set_currency_price('eur', 79)\n",
    "bank.set_currency_price('eur', 80.2)\n",
    "\n",
    "for currency_price in bank.current_currencies:\n",
    "    print(currency_price)"
   ]
  },
  {
   "cell_type": "code",
   "execution_count": 6,
   "metadata": {
    "collapsed": false,
    "scrolled": true
   },
   "outputs": [
    {
     "data": {
      "image/png": "[encoded data removed]",
      "text/plain": [
       "<matplotlib.figure.Figure at 0x7f2d700747b8>"
      ]
     },
     "metadata": {},
     "output_type": "display_data"
    }
   ],
   "source": [
    "%matplotlib inline\n",
    "from matplotlib import pyplot as plt\n",
    "from matplotlib import dates as mdates\n",
    "\n",
    "history = bank.get_currency_history('eur')\n",
    "history_map = enumerate(cp.price for cp in history)\n",
    "keys, values = zip(*history_map)\n",
    "\n",
    "plt.plot(keys, values) \n",
    "plt.ylabel('RUB/EUR')\n",
    "plt.xlabel('Update #')\n",
    "plt.title('Course RUB/EUR')\n",
    "plt.grid(True)"
   ]
  },
  {
   "cell_type": "markdown",
   "metadata": {},
   "source": [
    "## Clients"
   ]
  },
  {
   "cell_type": "code",
   "execution_count": 7,
   "metadata": {
    "collapsed": false
   },
   "outputs": [
    {
     "name": "stdout",
     "output_type": "stream",
     "text": [
      "Client: Jonny. ID:10700b12-fdd4-417f-a198-78038f82331c. Bank: OOO Roga and kopyta [d56dd55c-8c3b-46db-9946-b711409a9654]\n",
      "Client: Alex. ID:43672fc1-cf59-4b42-b135-2747d9edc791. Bank: OOO Roga and kopyta [d56dd55c-8c3b-46db-9946-b711409a9654]\n"
     ]
    }
   ],
   "source": [
    "jonny = bank.add_client(\"Jonny\")\n",
    "alex = bank.add_client(\"Alex\")\n",
    "for client in bank.clients:\n",
    "    print(client)"
   ]
  },
  {
   "cell_type": "markdown",
   "metadata": {},
   "source": [
    "## Accounts"
   ]
  },
  {
   "cell_type": "code",
   "execution_count": 8,
   "metadata": {
    "collapsed": false
   },
   "outputs": [
    {
     "name": "stdout",
     "output_type": "stream",
     "text": [
      "Jonny's account in OOO Roga and kopyta bank. Amount: 20. Currency: Currency: USA Dollar. Code: USD\n",
      "Jonny's account in OOO Roga and kopyta bank. Amount: 0. Currency: -\n",
      "Alex's account in OOO Roga and kopyta bank. Amount: 40. Currency: -\n",
      "Alex's account in OOO Roga and kopyta bank. Amount: 0.1. Currency: Currency: USA Dollar. Code: USD\n"
     ]
    }
   ],
   "source": [
    "jonny_rub = bank.add_account(jonny)\n",
    "jonny_usd = bank.add_account(jonny, 20, 'usd')\n",
    "\n",
    "alex_rub = bank.add_account(alex, 40)\n",
    "alex_usd = bank.add_account(alex, 0.1, 'usd')\n",
    "\n",
    "for account in bank.accounts:\n",
    "    print(account)\n"
   ]
  },
  {
   "cell_type": "code",
   "execution_count": 9,
   "metadata": {
    "collapsed": false
   },
   "outputs": [
    {
     "name": "stdout",
     "output_type": "stream",
     "text": [
      "> 212f90e3-cc93-41c4-9199-94f4c4985776 Currency transaction from BANK to Jonny's account in OOO Roga and kopyta bank. Amount: 20. Time: 2016-12-07 19:24:13.591091. Currency: Currency: USA Dollar. Code: USD (course: 60). Approved = True\n",
      "> c201fddb-67f4-45bc-bdad-834e462bfc4a Transaction from BANK to Alex's account in OOO Roga and kopyta bank. Amount: 40. Time: 2016-12-07 19:24:13.591378\n",
      "> 7b711c32-f57f-4e25-a29b-2c34f0cae1c4 Currency transaction from BANK to Alex's account in OOO Roga and kopyta bank. Amount: 0.1. Time: 2016-12-07 19:24:13.591653. Currency: Currency: USA Dollar. Code: USD (course: 60). Approved = True\n"
     ]
    }
   ],
   "source": [
    "transactions = bank.transactions\n",
    "for transaction in transactions:\n",
    "    print(\"> %s\" % transaction)"
   ]
  },
  {
   "cell_type": "code",
   "execution_count": 10,
   "metadata": {
    "collapsed": false
   },
   "outputs": [
    {
     "name": "stdout",
     "output_type": "stream",
     "text": [
      "> c201fddb-67f4-45bc-bdad-834e462bfc4a Transaction from BANK to Alex's account in OOO Roga and kopyta bank. Amount: 40. Time: 2016-12-07 19:24:13.591378\n",
      "> 7b711c32-f57f-4e25-a29b-2c34f0cae1c4 Currency transaction from BANK to Alex's account in OOO Roga and kopyta bank. Amount: 0.1. Time: 2016-12-07 19:24:13.591653. Currency: Currency: USA Dollar. Code: USD (course: 60). Approved = True\n"
     ]
    }
   ],
   "source": [
    "alex_transactions = alex.history\n",
    "for transaction in alex_transactions:\n",
    "    print(\"> %s\" % transaction)"
   ]
  },
  {
   "cell_type": "code",
   "execution_count": 11,
   "metadata": {
    "collapsed": false
   },
   "outputs": [
    {
     "name": "stdout",
     "output_type": "stream",
     "text": [
      "Bank full amount is: 1246.0 \n"
     ]
    }
   ],
   "source": [
    "print(\"Bank full amount is: %s \" % bank.full_amount)"
   ]
  },
  {
   "cell_type": "markdown",
   "metadata": {},
   "source": [
    "### Transfer between accounts"
   ]
  },
  {
   "cell_type": "code",
   "execution_count": 12,
   "metadata": {
    "collapsed": false
   },
   "outputs": [
    {
     "name": "stdout",
     "output_type": "stream",
     "text": [
      "> 212f90e3-cc93-41c4-9199-94f4c4985776 Currency transaction from BANK to Jonny's account in OOO Roga and kopyta bank. Amount: 20. Time: 2016-12-07 19:24:13.591091. Currency: Currency: USA Dollar. Code: USD (course: 60). Approved = True\n",
      "> c201fddb-67f4-45bc-bdad-834e462bfc4a Transaction from BANK to Alex's account in OOO Roga and kopyta bank. Amount: 40. Time: 2016-12-07 19:24:13.591378\n",
      "> 7b711c32-f57f-4e25-a29b-2c34f0cae1c4 Currency transaction from BANK to Alex's account in OOO Roga and kopyta bank. Amount: 0.1. Time: 2016-12-07 19:24:13.591653. Currency: Currency: USA Dollar. Code: USD (course: 60). Approved = True\n",
      "> d870c594-57c7-4e9f-bae1-1a772e53b4df Transaction from Alex's account in OOO Roga and kopyta bank to Jonny's account in OOO Roga and kopyta bank. Amount: 10. Time: 2016-12-07 19:24:14.059192\n",
      "Bank full amount is: 1246.0 \n",
      "Jonny's account in OOO Roga and kopyta bank. Amount: 20. Currency: Currency: USA Dollar. Code: USD\n",
      "Jonny's account in OOO Roga and kopyta bank. Amount: 10. Currency: -\n",
      "Alex's account in OOO Roga and kopyta bank. Amount: 30. Currency: -\n",
      "Alex's account in OOO Roga and kopyta bank. Amount: 0.1. Currency: Currency: USA Dollar. Code: USD\n",
      "Client: Jonny. ID:10700b12-fdd4-417f-a198-78038f82331c. Bank: OOO Roga and kopyta [d56dd55c-8c3b-46db-9946-b711409a9654] has money: 1210 RUB\n",
      "Client: Alex. ID:43672fc1-cf59-4b42-b135-2747d9edc791. Bank: OOO Roga and kopyta [d56dd55c-8c3b-46db-9946-b711409a9654] has money: 36.0 RUB\n"
     ]
    }
   ],
   "source": [
    "alex_rub.transfer(jonny_rub, 10)\n",
    "for transaction in bank.transactions:\n",
    "    print(\"> %s\" % transaction)\n",
    "    \n",
    "print(\"Bank full amount is: %s \" % bank.full_amount)\n",
    "\n",
    "for account in bank.accounts:\n",
    "    print(account)\n",
    "    \n",
    "for client in bank.clients:\n",
    "    print(\"%s has money: %s RUB\" % (client, client.full_amount))"
   ]
  },
  {
   "cell_type": "markdown",
   "metadata": {},
   "source": [
    "### Transfer between currencies accounts"
   ]
  },
  {
   "cell_type": "code",
   "execution_count": 13,
   "metadata": {
    "collapsed": false
   },
   "outputs": [
    {
     "name": "stdout",
     "output_type": "stream",
     "text": [
      "UPAPPROVED TRANSACTIONS\n",
      "> 27dcf649-5f66-4fe5-810d-23ea39ab9d5f Currency transaction from Jonny's account in OOO Roga and kopyta bank to Alex's account in OOO Roga and kopyta bank. Amount: 1. Time: 2016-12-07 19:24:14.159201. Currency: Currency: USA Dollar. Code: USD (course: 60). Approved = False\n",
      "BEFORE APPROVE\n",
      "Jonny's account in OOO Roga and kopyta bank. Amount: 19. Currency: Currency: USA Dollar. Code: USD\n",
      "Jonny's account in OOO Roga and kopyta bank. Amount: 10. Currency: -\n",
      "Alex's account in OOO Roga and kopyta bank. Amount: 30. Currency: -\n",
      "Alex's account in OOO Roga and kopyta bank. Amount: 0.1. Currency: Currency: USA Dollar. Code: USD\n",
      "APPROVING\n",
      "AFTER APPROVE\n",
      "ALL TRANSACTIONS\n",
      "> 212f90e3-cc93-41c4-9199-94f4c4985776 Currency transaction from BANK to Jonny's account in OOO Roga and kopyta bank. Amount: 20. Time: 2016-12-07 19:24:13.591091. Currency: Currency: USA Dollar. Code: USD (course: 60). Approved = True\n",
      "> c201fddb-67f4-45bc-bdad-834e462bfc4a Transaction from BANK to Alex's account in OOO Roga and kopyta bank. Amount: 40. Time: 2016-12-07 19:24:13.591378\n",
      "> 7b711c32-f57f-4e25-a29b-2c34f0cae1c4 Currency transaction from BANK to Alex's account in OOO Roga and kopyta bank. Amount: 0.1. Time: 2016-12-07 19:24:13.591653. Currency: Currency: USA Dollar. Code: USD (course: 60). Approved = True\n",
      "> d870c594-57c7-4e9f-bae1-1a772e53b4df Transaction from Alex's account in OOO Roga and kopyta bank to Jonny's account in OOO Roga and kopyta bank. Amount: 10. Time: 2016-12-07 19:24:14.059192\n",
      "> 27dcf649-5f66-4fe5-810d-23ea39ab9d5f Currency transaction from Jonny's account in OOO Roga and kopyta bank to Alex's account in OOO Roga and kopyta bank. Amount: 1. Time: 2016-12-07 19:24:14.159201. Currency: Currency: USA Dollar. Code: USD (course: 60). Approved = True\n",
      "Jonny's account in OOO Roga and kopyta bank. Amount: 19. Currency: Currency: USA Dollar. Code: USD\n",
      "Jonny's account in OOO Roga and kopyta bank. Amount: 10. Currency: -\n",
      "Alex's account in OOO Roga and kopyta bank. Amount: 30. Currency: -\n",
      "Alex's account in OOO Roga and kopyta bank. Amount: 1.1. Currency: Currency: USA Dollar. Code: USD\n"
     ]
    }
   ],
   "source": [
    "transaction = jonny_usd.transfer(alex_usd, 1)\n",
    "\n",
    "print(\"UPAPPROVED TRANSACTIONS\")\n",
    "for transaction in bank.unapproved_transactions:\n",
    "    print(\"> %s\" % transaction) \n",
    "    \n",
    "print(\"BEFORE APPROVE\")\n",
    "for account in bank.accounts:\n",
    "    print(account)\n",
    "    \n",
    "print(\"APPROVING\")    \n",
    "unfinished = bank.get_transaction(transaction.id)\n",
    "unfinished.approve()\n",
    "\n",
    "print(\"AFTER APPROVE\")\n",
    "print(\"ALL TRANSACTIONS\")\n",
    "for transaction in bank.transactions:\n",
    "    print(\"> %s\" % transaction)\n",
    "\n",
    "for account in bank.accounts:\n",
    "    print(account)"
   ]
  },
  {
   "cell_type": "markdown",
   "metadata": {},
   "source": [
    "### Transfer between different currencies"
   ]
  },
  {
   "cell_type": "code",
   "execution_count": 14,
   "metadata": {
    "collapsed": false
   },
   "outputs": [
    {
     "name": "stdout",
     "output_type": "stream",
     "text": [
      "UPAPPROVED TRANSACTIONS\n",
      "> bf86c43f-2a0a-4ade-bffb-faf49d2e5c0d Currency transaction from Jonny's account in OOO Roga and kopyta bank to Alex's account in OOO Roga and kopyta bank. Amount: 60. Time: 2016-12-07 19:24:14.259526. Currency: Currency: USA Dollar. Code: USD (course: 60). Approved = False\n",
      "BEFORE APPROVE\n",
      "Jonny's account in OOO Roga and kopyta bank. Amount: 18. Currency: Currency: USA Dollar. Code: USD\n",
      "Jonny's account in OOO Roga and kopyta bank. Amount: 10. Currency: -\n",
      "Alex's account in OOO Roga and kopyta bank. Amount: 30. Currency: -\n",
      "Alex's account in OOO Roga and kopyta bank. Amount: 1.1. Currency: Currency: USA Dollar. Code: USD\n",
      "APPROVING\n",
      "AFTER APPROVE\n",
      "ALL TRANSACTIONS\n",
      "> 212f90e3-cc93-41c4-9199-94f4c4985776 Currency transaction from BANK to Jonny's account in OOO Roga and kopyta bank. Amount: 20. Time: 2016-12-07 19:24:13.591091. Currency: Currency: USA Dollar. Code: USD (course: 60). Approved = True\n",
      "> c201fddb-67f4-45bc-bdad-834e462bfc4a Transaction from BANK to Alex's account in OOO Roga and kopyta bank. Amount: 40. Time: 2016-12-07 19:24:13.591378\n",
      "> 7b711c32-f57f-4e25-a29b-2c34f0cae1c4 Currency transaction from BANK to Alex's account in OOO Roga and kopyta bank. Amount: 0.1. Time: 2016-12-07 19:24:13.591653. Currency: Currency: USA Dollar. Code: USD (course: 60). Approved = True\n",
      "> d870c594-57c7-4e9f-bae1-1a772e53b4df Transaction from Alex's account in OOO Roga and kopyta bank to Jonny's account in OOO Roga and kopyta bank. Amount: 10. Time: 2016-12-07 19:24:14.059192\n",
      "> 27dcf649-5f66-4fe5-810d-23ea39ab9d5f Currency transaction from Jonny's account in OOO Roga and kopyta bank to Alex's account in OOO Roga and kopyta bank. Amount: 1. Time: 2016-12-07 19:24:14.159201. Currency: Currency: USA Dollar. Code: USD (course: 60). Approved = True\n",
      "> bf86c43f-2a0a-4ade-bffb-faf49d2e5c0d Currency transaction from Jonny's account in OOO Roga and kopyta bank to Alex's account in OOO Roga and kopyta bank. Amount: 60. Time: 2016-12-07 19:24:14.259526. Currency: Currency: USA Dollar. Code: USD (course: 60). Approved = True\n",
      "Jonny's account in OOO Roga and kopyta bank. Amount: 18. Currency: Currency: USA Dollar. Code: USD\n",
      "Jonny's account in OOO Roga and kopyta bank. Amount: 10. Currency: -\n",
      "Alex's account in OOO Roga and kopyta bank. Amount: 90. Currency: -\n",
      "Alex's account in OOO Roga and kopyta bank. Amount: 1.1. Currency: Currency: USA Dollar. Code: USD\n"
     ]
    }
   ],
   "source": [
    "transaction = jonny_usd.transfer(alex_rub, 1)\n",
    "\n",
    "print(\"UPAPPROVED TRANSACTIONS\")\n",
    "for transaction in bank.unapproved_transactions:\n",
    "    print(\"> %s\" % transaction) \n",
    "    \n",
    "print(\"BEFORE APPROVE\")\n",
    "for account in bank.accounts:\n",
    "    print(account)\n",
    "    \n",
    "print(\"APPROVING\")    \n",
    "unfinished = bank.get_transaction(transaction.id)\n",
    "unfinished.approve()\n",
    "\n",
    "print(\"AFTER APPROVE\")\n",
    "print(\"ALL TRANSACTIONS\")\n",
    "for transaction in bank.transactions:\n",
    "    print(\"> %s\" % transaction)\n",
    "\n",
    "for account in bank.accounts:\n",
    "    print(account)"
   ]
  }
 ],
 "metadata": {
  "kernelspec": {
   "display_name": "Python 3",
   "language": "python",
   "name": "python3"
  },
  "language_info": {
   "codemirror_mode": {
    "name": "ipython",
    "version": 3
   },
   "file_extension": ".py",
   "mimetype": "text/x-python",
   "name": "python",
   "nbconvert_exporter": "python",
   "pygments_lexer": "ipython3",
   "version": "3.4.3"
  }
 },
 "nbformat": 4,
 "nbformat_minor": 2
}
